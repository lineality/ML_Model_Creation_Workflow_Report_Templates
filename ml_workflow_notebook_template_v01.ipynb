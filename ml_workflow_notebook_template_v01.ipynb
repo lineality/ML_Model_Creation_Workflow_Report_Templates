{
  "nbformat": 4,
  "nbformat_minor": 0,
  "metadata": {
    "colab": {
      "name": "ml_workflow_notebook_template_v01.ipynb",
      "provenance": [],
      "collapsed_sections": []
    },
    "kernelspec": {
      "name": "python3",
      "display_name": "Python 3"
    },
    "language_info": {
      "name": "python"
    }
  },
  "cells": [
    {
      "cell_type": "markdown",
      "metadata": {
        "id": "9BepZeKpfY3i"
      },
      "source": [
        "# 1. Goals\n",
        "State your Goals:\n",
        "y choice goals:\n",
        "\t- What is your y, what are you trying to predict?\n",
        "- Where are you? What are you looking at?\n",
        "- Where do you want to be? What are you looking for?\n",
        "- How will you get there (to where you want to be)?\n",
        "- vs. \"solving a user problem\"...it could be translated into this, but often is not.\n",
        "\n",
        "What are your end-goals, even if there are also intermediate goals along the way?\n",
        "\n",
        "Model Choice Goals:\n",
        "Also, do you have any goals related to model size or model 'explainability' or model flexibility etc? Are the constraints on what kind of model you will, can, or want to use?\n",
        "\n"
      ]
    },
    {
      "cell_type": "code",
      "metadata": {
        "id": "Cr3EEESLjiGB"
      },
      "source": [
        ""
      ],
      "execution_count": null,
      "outputs": []
    },
    {
      "cell_type": "markdown",
      "metadata": {
        "id": "7o5An1Nc_hNt"
      },
      "source": [
        "### *E.g. The goal is to predict the species of iris.*\n",
        "\n",
        "\n"
      ]
    },
    {
      "cell_type": "markdown",
      "metadata": {
        "id": "ifYNinfWfu8e"
      },
      "source": [
        "# 2.  Standards, Best Practice, and Terminology\n",
        "\n",
        "\n"
      ]
    },
    {
      "cell_type": "markdown",
      "metadata": {
        "id": "dwzEJryqf9dk"
      },
      "source": [
        "# 3. Hardware & Software\n",
        "Pick hardware and software on which to run:\n"
      ]
    },
    {
      "cell_type": "markdown",
      "metadata": {
        "id": "Yw3TPP1ABCed"
      },
      "source": [
        "## *E.g. the solution should not require special hardware, or should run in a colab-notebook. Standard desktop operating systems (windows, linux, maxOS) should suffice. in AWS, no specific (EC2) instance is needed*"
      ]
    },
    {
      "cell_type": "markdown",
      "metadata": {
        "id": "WUE1Oo1-_yob"
      },
      "source": [
        ""
      ]
    },
    {
      "cell_type": "markdown",
      "metadata": {
        "id": "A0veqZnSgCsT"
      },
      "source": [
        ""
      ]
    },
    {
      "cell_type": "markdown",
      "metadata": {
        "id": "Kv9qdpKLgGar"
      },
      "source": [
        "# 4. Environment(s)\n",
        "Set up your Virtual Environments, Kernels, etc.\n",
        "\n"
      ]
    },
    {
      "cell_type": "markdown",
      "metadata": {
        "id": "SlTy6juxAAsg"
      },
      "source": [
        "## *the python environment will be a venv environment* (in a docker container)"
      ]
    },
    {
      "cell_type": "markdown",
      "metadata": {
        "id": "P9xX02h9gHj7"
      },
      "source": [
        ""
      ]
    },
    {
      "cell_type": "markdown",
      "metadata": {
        "id": "JbWKdC58gNfa"
      },
      "source": [
        "# 5. Software Libraries\n",
        "Import your (main, initial) libraries noting versions:\n",
        "\t- keep track of what versions you are using and what versions you need of packages\n",
        "- best practice: document what all of your software package and library versions are\n",
        "\t- os\n",
        "\t- python\n",
        "\t- conda\n",
        "\t- pandas\n",
        "\t- etc.\n",
        "- maybe create a bundle of that software to be used later by other people\n"
      ]
    },
    {
      "cell_type": "markdown",
      "metadata": {
        "id": "GR8i84RmBAlf"
      },
      "source": [
        "## *E.g. the solution will us linux, python, venv, sklearn, docker, AWS, and notebooks*"
      ]
    },
    {
      "cell_type": "markdown",
      "metadata": {
        "id": "_uZmJtvAgOpK"
      },
      "source": [
        "# 6. Get Data\n",
        "Get files/data sets/ etc \n",
        "- obtaining data: source, scraping\n",
        "- raw data: issues, file formats\n",
        "- loaded data: dataframe, arrays, database\n"
      ]
    },
    {
      "cell_type": "markdown",
      "metadata": {
        "id": "mauQxiG5gUlZ"
      },
      "source": [
        "# 7. EDA: Exploratory Data Analysis \n",
        "Initial Exploration 1: first observations, \n"
      ]
    },
    {
      "cell_type": "markdown",
      "metadata": {
        "id": "kyvRGH4xgbRp"
      },
      "source": [
        ""
      ]
    },
    {
      "cell_type": "markdown",
      "metadata": {
        "id": "YrI-JlXUiR_b"
      },
      "source": [
        "# 8. Cleaning & Wrangle Data \n",
        "- 90% of time will be spent cleaning data)\n"
      ]
    },
    {
      "cell_type": "markdown",
      "metadata": {
        "id": "5-wFIggJiTxL"
      },
      "source": [
        "# 9. Formatting, \"feature engineering,\" etc."
      ]
    },
    {
      "cell_type": "markdown",
      "metadata": {
        "id": "LQz4Z5SZiXdC"
      },
      "source": [
        ""
      ]
    },
    {
      "cell_type": "markdown",
      "metadata": {
        "id": "7CHEiHZsigMR"
      },
      "source": [
        "# 10. Features & Focus\n",
        "- What is y (what you will predict)\n"
      ]
    },
    {
      "cell_type": "markdown",
      "metadata": {
        "id": "66sbLgWMihDo"
      },
      "source": [
        "# 11. Hypothesis\n",
        "Articulate your Hypothesis? What is your Null Hypothesis?\n"
      ]
    },
    {
      "cell_type": "markdown",
      "metadata": {
        "id": "AShxoy7PikaY"
      },
      "source": [
        "# 12. Baseline Prediction\n",
        "Establis\n"
      ]
    },
    {
      "cell_type": "markdown",
      "metadata": {
        "id": "jh1etuX5io4Y"
      },
      "source": [
        "# 13. Split your Dataset: Make your sets: Train, Val, & Test sets\n",
        "- issue: random or time based split\n",
        "- issue: split ratio\n"
      ]
    },
    {
      "cell_type": "markdown",
      "metadata": {
        "id": "WMpDM2T1isaI"
      },
      "source": [
        "# 14. \"Wrangle\" Using a Function\n",
        "make sure the data processing steps that you did are standardized for easy repetition and application to your split datasets\n",
        "(for all: train,val,test)\t"
      ]
    },
    {
      "cell_type": "markdown",
      "metadata": {
        "id": "PsZQ067kivdW"
      },
      "source": [
        "# 15.  Family of Variables\n",
        "(Make) Your Family of Variables\n"
      ]
    },
    {
      "cell_type": "markdown",
      "metadata": {
        "id": "dx9Ai8WHizEH"
      },
      "source": [
        "# 16. Try and Compare Suit of Models\n",
        "Pick what models you will try running. Try and compare multiple types of models if possible. Try to 'argue' why you have picked and not picked types of models based on your situation. \n",
        "https://www.datasciencecentral.com/profiles/blogs/40-techniques-used-by-data-scientists\n"
      ]
    },
    {
      "cell_type": "code",
      "metadata": {
        "id": "1ZgNqCO6i2YW"
      },
      "source": [
        ""
      ],
      "execution_count": null,
      "outputs": []
    },
    {
      "cell_type": "markdown",
      "metadata": {
        "id": "8BhW1wp5i_bF"
      },
      "source": [
        "# 17. Pre-Pipeline phase\n",
        "Some say: Before doing a pipeline do a model without the pipeline with each step separately for debugging.\n"
      ]
    },
    {
      "cell_type": "code",
      "metadata": {
        "id": "hWUZlCfpi6nG"
      },
      "source": [
        ""
      ],
      "execution_count": null,
      "outputs": []
    },
    {
      "cell_type": "markdown",
      "metadata": {
        "id": "QRpF_k1ii9BF"
      },
      "source": [
        "# 18. Pipeline\n",
        "Make a pipeline (e.g. sklearn) so that you can easily switch in and out different models and change parameters and hyperparameters and processes.\n"
      ]
    },
    {
      "cell_type": "markdown",
      "metadata": {
        "id": "0oGSt-FPjAYU"
      },
      "source": [
        "# 19. .fit .predict\n",
        "Run Your Model(s): Proverbially \".fit .predict\"\n"
      ]
    },
    {
      "cell_type": "markdown",
      "metadata": {
        "id": "bK-9lUsMjC59"
      },
      "source": [
        "# 20. Evaluate, Compare, Refine, Redeploy Models\n",
        "Evaluate, Compare, Refine, Redeploy Models, adjust hyperparameters, squeeze out large and small improvements.\n"
      ]
    },
    {
      "cell_type": "markdown",
      "metadata": {
        "id": "uAh-9j1-jFN9"
      },
      "source": [
        "# 21. Feature Comparison\n",
        "Formally analyze the roles and relationships between the features columns. \n",
        "- Are there interactions between columns?\n"
      ]
    },
    {
      "cell_type": "markdown",
      "metadata": {
        "id": "WFTsNaCMjHwM"
      },
      "source": [
        "# 22. Pick Final Model\n",
        "Pick a final model or combination of models to use. (e.g. conventional models are often combined with neural networks)\n"
      ]
    },
    {
      "cell_type": "markdown",
      "metadata": {
        "id": "IzF-TZvMjLIz"
      },
      "source": [
        "# 24. Analyze Performance\n",
        "Examine the proverbial \"accuracy\" or score of your model and \"publish\" your results and commentary.\n"
      ]
    },
    {
      "cell_type": "markdown",
      "metadata": {
        "id": "pZWHh4gcjNZL"
      },
      "source": [
        "# 25. Documentation\n",
        "Review and complete documentation of and for your code.\n"
      ]
    },
    {
      "cell_type": "markdown",
      "metadata": {
        "id": "ANxHlOeqjQNj"
      },
      "source": [
        "# \n",
        "26. Model Deployment for Users\n",
        "- API for backends\n",
        "- interactive web apps\n"
      ]
    },
    {
      "cell_type": "markdown",
      "metadata": {
        "id": "irp3EA5_aIU_"
      },
      "source": [
        "# 28. Deploy:\n",
        "\n",
        "https://github.com/lineality/Python_Docker_AWS_Lambda_Deploy_Complete_Workflow\n",
        "\n",
        "Parent AWS-Lambd-Function:\n",
        "```\n",
        "function-name\n",
        "\n",
        "arn:aws:lambda:us-east-1:...\n",
        "```\n",
        "Child Lambda function (ML/AI)\n",
        "```\n",
        "function-name\n",
        "\n",
        "arn:aws:lambda:us-east-1:..."
      ]
    },
    {
      "cell_type": "markdown",
      "metadata": {
        "id": "V-hYV9EmaIwP"
      },
      "source": [
        "format of input and output\n"
      ]
    },
    {
      "cell_type": "markdown",
      "metadata": {
        "id": "cLird0AxaW9O"
      },
      "source": [
        "example input and output:\n"
      ]
    },
    {
      "cell_type": "markdown",
      "metadata": {
        "id": "ME0b4AJwjTKK"
      },
      "source": [
        "# 27. Dashboard / Report\n",
        "- Clear, Concise & Contextual\n",
        "- Actionable\n",
        "- Repeatable & Replicable\n"
      ]
    },
    {
      "cell_type": "markdown",
      "metadata": {
        "id": "VBh7RfPCjVOS"
      },
      "source": [
        ""
      ]
    },
    {
      "cell_type": "markdown",
      "metadata": {
        "id": "i-YRn-JkZ_iX"
      },
      "source": [
        "# 29. Future Action Plan\n",
        "- improve model\n",
        "- using model\n",
        "- following up\n",
        "- related models\n",
        "- needed experiments or tests\n",
        "- outstanding questions to answer"
      ]
    },
    {
      "cell_type": "markdown",
      "metadata": {
        "id": "2Y-yQg1JaBPg"
      },
      "source": [
        ""
      ]
    },
    {
      "cell_type": "markdown",
      "metadata": {
        "id": "oZpxDpzhaBZe"
      },
      "source": [
        "# 30. Concluding Remarks"
      ]
    }
  ]
}